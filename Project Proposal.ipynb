{
 "cells": [
  {
   "cell_type": "markdown",
   "id": "6ec32c4b",
   "metadata": {},
   "source": [
    "# <center> Project Proposal<center>\n",
    "<center>Chuyi Lin, Jingsong Zhou, Siyan Wang, Xinyao Li, Yiyuan Li<center>\n"
   ]
  },
  {
   "cell_type": "markdown",
   "id": "cc0ae9e5",
   "metadata": {},
   "source": [
    "### 1. Project Overview"
   ]
  },
  {
   "cell_type": "markdown",
   "id": "bbf8e7db",
   "metadata": {},
   "source": [
    "Online shopping has become an indispensable part of human life, and customer reviews play a crucial role in this system. In order to conduct in-depth research on this topic, we have chosen a US customer reviews dataset from the renowned e-commerce platform Amazon. This dataset includes reviews from millions of Amazon customers over the past several years. Based on the content of this dataset, we have formulated a questions:\n",
    "-   Is there a correlation between the number of helpful votes from other users and the score given to a product in each review? Does this correlation vary across different categories of products?"
   ]
  },
  {
   "cell_type": "markdown",
   "id": "81612685",
   "metadata": {},
   "source": [
    "The GitHub repository of our project can be accessed through the following link:<br>\n",
    "https://github.com/siyanwang123/STAT605"
   ]
  },
  {
   "cell_type": "markdown",
   "id": "9e3b865f",
   "metadata": {},
   "source": [
    "### 2. Dataset"
   ]
  },
  {
   "cell_type": "markdown",
   "id": "7dc13e6f",
   "metadata": {},
   "source": [
    "#### 2.1 Data Description\n",
    "The Dataset includes 37 files, each containing reviews for different categories of products. And each file contains the same fifteen variables, with their specific meanings explained below:"
   ]
  },
  {
   "cell_type": "markdown",
   "id": "fac57704",
   "metadata": {},
   "source": [
    "| variable | description | \n",
    "|:--------:|:--------:|\n",
    "| product_category | Broad product category that can be used to group reviews | \n",
    "| star_rating | The 1-5 star rating of the review. | \n",
    "| helpful_votes | Number of helpful votes. | \n",
    "| total_votes | Number of total votes the review received. | \n",
    "| verified_purchase | The review is on a verified purchase. | \n",
    "| review_headline | The title of the review. | \n",
    "| review_body | The review text. | \n",
    "| review_date | The date the review was written. | "
   ]
  },
  {
   "cell_type": "markdown",
   "id": "a08dba4e",
   "metadata": {},
   "source": [
    "Data Link: https://www.kaggle.com/datasets/cynthiarempel/amazon-us-customer-reviews-dataset"
   ]
  },
  {
   "cell_type": "markdown",
   "id": "d1c3caf5",
   "metadata": {},
   "source": [
    "#### 2.2 Read Dataset"
   ]
  },
  {
   "cell_type": "markdown",
   "id": "06ab7be4",
   "metadata": {},
   "source": [
    "Run the following code to download the dataset:"
   ]
  },
  {
   "cell_type": "markdown",
   "id": "86b8b0de",
   "metadata": {},
   "source": [
    "`kaggle datasets download -d cynthiarempel/amazon-us-customer-reviews-dataset`"
   ]
  },
  {
   "cell_type": "markdown",
   "id": "a34557c5",
   "metadata": {},
   "source": [
    "### 3. Statistical Methods and Computational Steps"
   ]
  },
  {
   "cell_type": "markdown",
   "id": "e7fbc18e",
   "metadata": {},
   "source": [
    "For each review, we will calculate the correlation coefficient between the number of helpful votes and the star rating given by the user. We may use Pearson correlation or Spearman correlation depending on the distribution of the data. Then we group the data by product category and then calculate the correlation withineach category. Later we can conduct statistical tests to determine if the observed differences in correlation between product categories are statistically significant."
   ]
  }
 ],
 "metadata": {
  "kernelspec": {
   "display_name": "Python 3 (ipykernel)",
   "language": "python",
   "name": "python3"
  },
  "language_info": {
   "codemirror_mode": {
    "name": "ipython",
    "version": 3
   },
   "file_extension": ".py",
   "mimetype": "text/x-python",
   "name": "python",
   "nbconvert_exporter": "python",
   "pygments_lexer": "ipython3",
   "version": "3.9.13"
  }
 },
 "nbformat": 4,
 "nbformat_minor": 5
}
